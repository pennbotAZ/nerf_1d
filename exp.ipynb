{
 "cells": [
  {
   "cell_type": "code",
   "execution_count": 1,
   "metadata": {},
   "outputs": [],
   "source": [
    "from model import NeRF\n",
    "import pytorch_lightning as pl\n",
    "from torch.utils.data import DataLoader\n",
    "from dataloader import OneDCurveData"
   ]
  },
  {
   "cell_type": "code",
   "execution_count": 2,
   "metadata": {},
   "outputs": [],
   "source": [
    "from vis import *\n",
    "from run_nerf import *"
   ]
  },
  {
   "cell_type": "code",
   "execution_count": 3,
   "metadata": {},
   "outputs": [],
   "source": [
    "import torch"
   ]
  },
  {
   "cell_type": "code",
   "execution_count": null,
   "metadata": {},
   "outputs": [],
   "source": [
    "# train\n",
    "model = NeRF()\n",
    "trainer = pl.Trainer(gpus=1)\n",
    "dataset = OneDCurveData()\n",
    "train_loader = DataLoader(dataset, batch_size=64)\n",
    "# trainer.fit(model, train_loader)"
   ]
  },
  {
   "cell_type": "code",
   "execution_count": null,
   "metadata": {},
   "outputs": [],
   "source": [
    "# eval\n",
    "model = NeRF.load_from_checkpoint('lightning_logs/version_34_10/checkpoints/epoch=401-step=401.ckpt')\n",
    "model.eval()\n",
    "model.cuda()\n",
    "with torch.no_grad():\n",
    "    x, y, res = render_path_circle(model)\n",
    "res = res.cpu()"
   ]
  },
  {
   "cell_type": "code",
   "execution_count": null,
   "metadata": {},
   "outputs": [],
   "source": [
    "# take one step and output intermediate results\n"
   ]
  },
  {
   "cell_type": "code",
   "execution_count": 4,
   "metadata": {},
   "outputs": [],
   "source": [
    "ckpt_dict = {28: \"/mnt/volume2/Data/zlz/shzhou2/project/nerf/lightning_logs/version_28_good/checkpoints/epoch=8-step=1412.ckpt\",\n",
    "            34: \"lightning_logs/version_34_10/checkpoints/epoch=401-step=401.ckpt\",\n",
    "            32: \"/mnt/volume2/Data/zlz/shzhou2/project/nerf/lightning_logs/version_32_100/checkpoints/epoch=231-step=463.ckpt\",\n",
    "            33: \"/mnt/volume2/Data/zlz/shzhou2/project/nerf/lightning_logs/version_33_50/checkpoints/epoch=326-step=326.ckpt\",\n",
    "            }"
   ]
  },
  {
   "cell_type": "markdown",
   "metadata": {},
   "source": [
    "# Weights on a ray: (eval)\n",
    "1. What is the weight & color prediction along one ray? Ideally, it should be symmetric: if one ray shoots from two opposite directions, then the color should be the same, and the weights should be just the opposite. \n",
    "2. Because of occlusion, the weigth should be placed on the contact point (and no where else ideally)\n",
    "\n"
   ]
  },
  {
   "cell_type": "code",
   "execution_count": 5,
   "metadata": {},
   "outputs": [
    {
     "data": {
      "text/plain": [
       "NeRF(\n",
       "  (layer1): Linear(in_features=2, out_features=128, bias=True)\n",
       "  (layer2): Linear(in_features=128, out_features=128, bias=True)\n",
       "  (layer3_1): Linear(in_features=128, out_features=1, bias=True)\n",
       "  (layer3_2): Linear(in_features=128, out_features=128, bias=True)\n",
       "  (layer4): Linear(in_features=129, out_features=128, bias=True)\n",
       "  (layer5): Linear(in_features=128, out_features=128, bias=True)\n",
       "  (layer6): Linear(in_features=128, out_features=3, bias=True)\n",
       ")"
      ]
     },
     "execution_count": 5,
     "metadata": {},
     "output_type": "execute_result"
    }
   ],
   "source": [
    "import math\n",
    "cuda = True\n",
    "model = NeRF.load_from_checkpoint(ckpt_dict[32])\n",
    "model.eval()\n",
    "model.cuda()\n"
   ]
  },
  {
   "cell_type": "code",
   "execution_count": 6,
   "metadata": {},
   "outputs": [],
   "source": [
    "with torch.no_grad():\n",
    "    r = 3\n",
    "    theta = torch.tensor([0, math.pi]) # torch.linspace(0, 2 * math.pi, 360)\n",
    "    x, y = r * torch.cos(theta), r * torch.sin(theta)\n",
    "    rays_o = torch.stack([x, y]).t()\n",
    "    rays_d = -theta\n",
    "    view_dirs = rays_d\n",
    "    if cuda:\n",
    "        rays_o, rays_d, view_dirs = rays_o.cuda(), rays_d.cuda(), view_dirs.cuda()\n",
    "    raw, z_vals = render_rays_step(rays_o, rays_d, view_dirs, model.forward)\n",
    "    y_hat, weight, rgb = raw2outputs_step(raw, z_vals)"
   ]
  },
  {
   "cell_type": "code",
   "execution_count": 8,
   "metadata": {},
   "outputs": [],
   "source": [
    "import matplotlib.pyplot as plt"
   ]
  },
  {
   "cell_type": "code",
   "execution_count": 10,
   "metadata": {},
   "outputs": [
    {
     "data": {
      "text/plain": [
       "<BarContainer object of 64 artists>"
      ]
     },
     "execution_count": 10,
     "metadata": {},
     "output_type": "execute_result"
    },
    {
     "data": {
      "image/png": "[encoded data removed]",
      "text/plain": [
       "<Figure size 432x288 with 1 Axes>"
      ]
     },
     "metadata": {
      "needs_background": "light"
     },
     "output_type": "display_data"
    }
   ],
   "source": [
    "plt.bar(np.arange(weight.shape[1]), weight[0].cpu())"
   ]
  },
  {
   "cell_type": "code",
   "execution_count": 13,
   "metadata": {},
   "outputs": [
    {
     "data": {
      "text/plain": [
       "<BarContainer object of 64 artists>"
      ]
     },
     "execution_count": 13,
     "metadata": {},
     "output_type": "execute_result"
    },
    {
     "data": {
      "image/png": "[encoded data removed]",
      "text/plain": [
       "<Figure size 432x288 with 1 Axes>"
      ]
     },
     "metadata": {
      "needs_background": "light"
     },
     "output_type": "display_data"
    }
   ],
   "source": [
    "plt.bar(np.arange(weight.shape[1]), weight[0].cpu())\n",
    "plt.bar(np.arange(weight.shape[1]-1, -1, -1), weight[1].cpu())"
   ]
  },
  {
   "cell_type": "code",
   "execution_count": 17,
   "metadata": {},
   "outputs": [
    {
     "data": {
      "text/plain": [
       "<matplotlib.image.AxesImage at 0x7f6a34b548b0>"
      ]
     },
     "execution_count": 17,
     "metadata": {},
     "output_type": "execute_result"
    },
    {
     "data": {
      "image/png": "[encoded data removed]",
      "text/plain": [
       "<Figure size 432x288 with 1 Axes>"
      ]
     },
     "metadata": {
      "needs_background": "light"
     },
     "output_type": "display_data"
    }
   ],
   "source": [
    "plt.imshow(rgb[0:1].cpu())"
   ]
  },
  {
   "cell_type": "code",
   "execution_count": 18,
   "metadata": {},
   "outputs": [
    {
     "data": {
      "text/plain": [
       "<matplotlib.image.AxesImage at 0x7f6a34b3c730>"
      ]
     },
     "execution_count": 18,
     "metadata": {},
     "output_type": "execute_result"
    },
    {
     "data": {
      "image/png": "[encoded data removed]",
      "text/plain": [
       "<Figure size 432x288 with 1 Axes>"
      ]
     },
     "metadata": {
      "needs_background": "light"
     },
     "output_type": "display_data"
    }
   ],
   "source": [
    "plt.imshow(rgb[1:2].cpu())"
   ]
  },
  {
   "cell_type": "markdown",
   "metadata": {},
   "source": [
    "# Weight updating: (train)\n",
    "Using small number of points (20 maybe), how the weight & color on them changes? "
   ]
  },
  {
   "cell_type": "code",
   "execution_count": 34,
   "metadata": {},
   "outputs": [],
   "source": [
    "def raw2outputs_step(raw, z_vals):\n",
    "    dists = z_vals[...,1:] - z_vals[...,:-1]\n",
    "    if cuda:\n",
    "        dists = torch.cat([dists, torch.Tensor([1e10]).expand(dists[...,:1].shape).cuda()], -1)\n",
    "    else:\n",
    "        dists = torch.cat([dists, torch.Tensor([1e10]).expand(dists[...,:1].shape)], -1)\n",
    "    \n",
    "    rgb = torch.sigmoid(raw[...,:3])\n",
    "    alpha = sigma2alpha(raw[...,3], dists)\n",
    "    \n",
    "    # import pdb; pdb.set_trace()\n",
    "    if cuda:\n",
    "        weights = alpha * torch.cumprod(torch.cat([torch.ones((alpha.shape[0], 1)).cuda(), 1.-alpha + 1e-10], -1), -1)[..., :-1]\n",
    "    else:\n",
    "        weights = alpha * torch.cumprod(torch.cat([torch.ones((alpha.shape[0], 1)), 1.-alpha + 1e-10], -1), -1)[..., :-1]\n",
    "    # import pdb; pdb.set_trace()\n",
    "    rgb_map = torch.sum(weights[...,None] * rgb, -2)\n",
    "    return rgb_map, weights, rgb   \n",
    "\n",
    "def render_rays_step(rays_o, rays_d, view_dirs, network_fn):\n",
    "    near = 0\n",
    "    far = 4\n",
    "    n_samples = 64\n",
    "    if cuda:\n",
    "        z_vals = linear_sample(near, far, n_samples).cuda()\n",
    "    else:\n",
    "        z_vals = linear_sample(near, far, n_samples)\n",
    "    # import pdb; pdb.set_trace()\n",
    "\n",
    "    pts = rays_o[...,None,:] + torch.stack([torch.cos(rays_d)[...,None] * z_vals[None, ...], torch.sin(rays_d)[...,None] * z_vals[None, ...]], -1)\n",
    "    raw = network_fn(torch.cat([pts, view_dirs[...,None, None].expand((-1, n_samples, 1))],-1))\n",
    "    return raw, z_vals"
   ]
  },
  {
   "cell_type": "code",
   "execution_count": 55,
   "metadata": {},
   "outputs": [],
   "source": [
    "import torch.nn as nn\n",
    "import torch\n",
    "import pytorch_lightning as pl\n",
    "import torch.nn.functional as F\n",
    "class NeRF_Debug(pl.LightningModule):\n",
    "    def __init__(self):\n",
    "        super().__init__()\n",
    "        self.relu = nn.functional.relu\n",
    "        self.xyz_encoding_dims = 2\n",
    "        self.viewdir_encoding_dims = 1\n",
    "        self.hidden_size = hidden_size = 128\n",
    "        self.layer1 = nn.Linear(self.xyz_encoding_dims, hidden_size)\n",
    "        self.layer2 = nn.Linear(hidden_size, hidden_size)\n",
    "        self.layer3_1 = nn.Linear(hidden_size, 1)\n",
    "        self.layer3_2 = nn.Linear(hidden_size, hidden_size)\n",
    "        self.layer4 = nn.Linear(\n",
    "            self.viewdir_encoding_dims + hidden_size, hidden_size\n",
    "        )\n",
    "        self.layer5 = nn.Linear(hidden_size, hidden_size)\n",
    "        self.layer6 = nn.Linear(hidden_size, 3)\n",
    "\n",
    "    def forward(self, x):\n",
    "        x, view = x[..., :-1], x[..., -1:]\n",
    "        x = self.relu(self.layer1(x))\n",
    "        x = self.relu(self.layer2(x))\n",
    "        sigma = self.layer3_1(x)\n",
    "        feat = self.relu(self.layer3_2(x))\n",
    "        x = torch.cat((feat, view), dim=-1)\n",
    "        x = self.relu(self.layer4(x))\n",
    "        x = self.relu(self.layer5(x))\n",
    "        c = self.layer6(x)\n",
    "        raw = torch.cat((c, sigma), dim=-1)\n",
    "        return raw\n",
    "\n",
    "    def training_step(self, batch, batch_idx):\n",
    "        # training_step defined the train loop.\n",
    "        # It is independent of forward\n",
    "        x, y = batch\n",
    "        y = y.float()\n",
    "        # import pdb; pdb.set_trace()\n",
    "        rays_d = x[:, 2]\n",
    "        rays_o = x[:, :2]\n",
    "        view_dirs = rays_d\n",
    "        raw, z_vals = render_rays_step(rays_o, rays_d, view_dirs, self.forward)\n",
    "        # import pdb; pdb.set_trace()\n",
    "        y_hat, weight, rgb = raw2outputs_step(raw, z_vals)\n",
    "        step_size = 10\n",
    "        if self.global_step % step_size == 0:\n",
    "            torch.save(weight, 'weight_{}.pth'.format(self.global_step // step_size))\n",
    "            torch.save(rgb, 'rgb_{}.pth'.format(self.global_step // step_size))\n",
    "        # import pdb; pdb.set_trace()\n",
    "        loss = F.mse_loss(y_hat, y)\n",
    "        # Logging to TensorBoard by default\n",
    "        self.log(\"train_loss\", loss)\n",
    "        return loss\n",
    "    \n",
    "    def configure_optimizers(self):\n",
    "        optimizer = torch.optim.Adam(self.parameters(), lr=1e-3, betas=(0.9, 0.999))\n",
    "        return optimizer\n"
   ]
  },
  {
   "cell_type": "code",
   "execution_count": 57,
   "metadata": {},
   "outputs": [
    {
     "name": "stderr",
     "output_type": "stream",
     "text": [
      "GPU available: True, used: True\n",
      "TPU available: False, using: 0 TPU cores\n",
      "IPU available: False, using: 0 IPUs\n",
      "LOCAL_RANK: 0 - CUDA_VISIBLE_DEVICES: [0,1,2,3]\n",
      "\n",
      "  | Name     | Type   | Params\n",
      "------------------------------------\n",
      "0 | layer1   | Linear | 384   \n",
      "1 | layer2   | Linear | 16.5 K\n",
      "2 | layer3_1 | Linear | 129   \n",
      "3 | layer3_2 | Linear | 16.5 K\n",
      "4 | layer4   | Linear | 16.6 K\n",
      "5 | layer5   | Linear | 16.5 K\n",
      "6 | layer6   | Linear | 387   \n",
      "------------------------------------\n",
      "67.1 K    Trainable params\n",
      "0         Non-trainable params\n",
      "67.1 K    Total params\n",
      "0.268     Total estimated model params size (MB)\n"
     ]
    },
    {
     "name": "stdout",
     "output_type": "stream",
     "text": [
      "Epoch 149: 100%|██████████| 1/1 [00:00<00:00, 18.64it/s, loss=5.48e-05, v_num=48]\n"
     ]
    }
   ],
   "source": [
    "import time\n",
    "model = NeRF_Debug()\n",
    "trainer = pl.Trainer(gpus=1, max_steps=150)\n",
    "dataset = OneDCurveData()\n",
    "train_loader = DataLoader(dataset, batch_size=64)\n",
    "trainer.fit(model, train_loader)"
   ]
  },
  {
   "cell_type": "code",
   "execution_count": 58,
   "metadata": {},
   "outputs": [
    {
     "data": {
      "image/png": "[encoded data removed]",
      "text/plain": [
       "<Figure size 432x288 with 1 Axes>"
      ]
     },
     "metadata": {
      "needs_background": "light"
     },
     "output_type": "display_data"
    },
    {
     "data": {
      "image/png": "[encoded data removed]",
      "text/plain": [
       "<Figure size 432x288 with 1 Axes>"
      ]
     },
     "metadata": {
      "needs_background": "light"
     },
     "output_type": "display_data"
    },
    {
     "data": {
      "image/png": "[encoded data removed]",
      "text/plain": [
       "<Figure size 432x288 with 1 Axes>"
      ]
     },
     "metadata": {
      "needs_background": "light"
     },
     "output_type": "display_data"
    },
    {
     "data": {
      "image/png": "[encoded data removed]",
      "text/plain": [
       "<Figure size 432x288 with 1 Axes>"
      ]
     },
     "metadata": {
      "needs_background": "light"
     },
     "output_type": "display_data"
    },
    {
     "data": {
      "image/png": "[encoded data removed]",
      "text/plain": [
       "<Figure size 432x288 with 1 Axes>"
      ]
     },
     "metadata": {
      "needs_background": "light"
     },
     "output_type": "display_data"
    },
    {
     "data": {
      "image/png": "[encoded data removed]",
      "text/plain": [
       "<Figure size 432x288 with 1 Axes>"
      ]
     },
     "metadata": {
      "needs_background": "light"
     },
     "output_type": "display_data"
    },
    {
     "data": {
      "image/png": "[encoded data removed]",
      "text/plain": [
       "<Figure size 432x288 with 1 Axes>"
      ]
     },
     "metadata": {
      "needs_background": "light"
     },
     "output_type": "display_data"
    },
    {
     "data": {
      "image/png": "[encoded data removed]",
      "text/plain": [
       "<Figure size 432x288 with 1 Axes>"
      ]
     },
     "metadata": {
      "needs_background": "light"
     },
     "output_type": "display_data"
    },
    {
     "data": {
      "image/png": "[encoded data removed]",
      "text/plain": [
       "<Figure size 432x288 with 1 Axes>"
      ]
     },
     "metadata": {
      "needs_background": "light"
     },
     "output_type": "display_data"
    },
    {
     "data": {
      "image/png": "[encoded data removed]",
      "text/plain": [
       "<Figure size 432x288 with 1 Axes>"
      ]
     },
     "metadata": {
      "needs_background": "light"
     },
     "output_type": "display_data"
    },
    {
     "data": {
      "image/png": "[encoded data removed]",
      "text/plain": [
       "<Figure size 432x288 with 1 Axes>"
      ]
     },
     "metadata": {
      "needs_background": "light"
     },
     "output_type": "display_data"
    },
    {
     "data": {
      "image/png": "[encoded data removed]",
      "text/plain": [
       "<Figure size 432x288 with 1 Axes>"
      ]
     },
     "metadata": {
      "needs_background": "light"
     },
     "output_type": "display_data"
    },
    {
     "data": {
      "image/png": "[encoded data removed]",
      "text/plain": [
       "<Figure size 432x288 with 1 Axes>"
      ]
     },
     "metadata": {
      "needs_background": "light"
     },
     "output_type": "display_data"
    },
    {
     "data": {
      "image/png": "[encoded data removed]",
      "text/plain": [
       "<Figure size 432x288 with 1 Axes>"
      ]
     },
     "metadata": {
      "needs_background": "light"
     },
     "output_type": "display_data"
    },
    {
     "data": {
      "image/png": "[encoded data removed]",
      "text/plain": [
       "<Figure size 432x288 with 1 Axes>"
      ]
     },
     "metadata": {
      "needs_background": "light"
     },
     "output_type": "display_data"
    }
   ],
   "source": [
    "with torch.no_grad():\n",
    "    for i in range(15):\n",
    "        rgb = torch.load('rgb_{}.pth'.format(i))\n",
    "        weight = torch.load('weight_{}.pth'.format(i))\n",
    "        plt.imshow(rgb.cpu())\n",
    "        plt.show()\n",
    "        # print(weight.shape)\n",
    "        "
   ]
  },
  {
   "cell_type": "code",
   "execution_count": 38,
   "metadata": {},
   "outputs": [
    {
     "data": {
      "text/plain": [
       "torch.Size([10, 64, 3])"
      ]
     },
     "execution_count": 38,
     "metadata": {},
     "output_type": "execute_result"
    }
   ],
   "source": [
    "with torch.no_grad():\n",
    "    fig, axs = plt.subplots(10)\n",
    "    for i in range(15):\n",
    "        # rgb = torch.load('rgb_{}.pth'.format(i))\n",
    "        weight = torch.load('weight_{}.pth'.format(i))\n",
    "        \n",
    "        axs[i]\n",
    "        # plt.imshow(rgb.cpu())\n",
    "        plt.show()"
   ]
  },
  {
   "cell_type": "markdown",
   "metadata": {},
   "source": [
    "# More views & more sampling points "
   ]
  },
  {
   "cell_type": "markdown",
   "metadata": {},
   "source": [
    "# Does it matter to keep sampling on each ray, or we can fix that (train)"
   ]
  }
 ],
 "metadata": {
  "interpreter": {
   "hash": "2a7f939484f2a495fbc6398c21d23d0c3efad0fe94b90e5014f82044794c06bb"
  },
  "kernelspec": {
   "display_name": "Python 3.8.12 64-bit ('nerf2': conda)",
   "language": "python",
   "name": "python3"
  },
  "language_info": {
   "codemirror_mode": {
    "name": "ipython",
    "version": 3
   },
   "file_extension": ".py",
   "mimetype": "text/x-python",
   "name": "python",
   "nbconvert_exporter": "python",
   "pygments_lexer": "ipython3",
   "version": "3.8.12"
  },
  "orig_nbformat": 4
 },
 "nbformat": 4,
 "nbformat_minor": 2
}
